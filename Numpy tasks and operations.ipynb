{
 "cells": [
  {
   "cell_type": "code",
   "execution_count": 1,
   "id": "659eb163-92df-4a95-882b-479eaaa638d1",
   "metadata": {},
   "outputs": [],
   "source": [
    "import numpy as np"
   ]
  },
  {
   "cell_type": "markdown",
   "id": "4533ab60-c057-47e0-94ad-fa7242f62283",
   "metadata": {},
   "source": [
    "# task -1"
   ]
  },
  {
   "cell_type": "code",
   "execution_count": 3,
   "id": "ab78dd1a-2abf-41e3-a36d-cef728a2ea20",
   "metadata": {},
   "outputs": [
    {
     "name": "stdout",
     "output_type": "stream",
     "text": [
      "1-D array:  [10 11 12 13 14 15 16 17 18 19 20 21 22 23 24 25 26 27 28 29 30 31 32 33\n",
      " 34 35 36 37 38 39 40 41 42 43 44 45 46 47 48 49 50]\n"
     ]
    }
   ],
   "source": [
    "arr1=np.arange(10,51)\n",
    "print(\"1-D array: \",arr1)"
   ]
  },
  {
   "cell_type": "code",
   "execution_count": 7,
   "id": "83ab6c5e-0a84-43a8-bac3-05288a8308f4",
   "metadata": {},
   "outputs": [
    {
     "name": "stdout",
     "output_type": "stream",
     "text": [
      "random 3x3 array:  [[0.78717022 0.55898961 0.79182523]\n",
      " [0.6321225  0.76086958 0.83812107]\n",
      " [0.66627456 0.64288383 0.30368517]]\n"
     ]
    }
   ],
   "source": [
    "arr2=np.random.rand(3,3)\n",
    "print(\"random 3x3 array: \",arr2)"
   ]
  },
  {
   "cell_type": "markdown",
   "id": "abf9930e-88f0-4f23-9f88-1657a6dfbffe",
   "metadata": {},
   "source": [
    "# task - 2 Array attributes"
   ]
  },
  {
   "cell_type": "code",
   "execution_count": 9,
   "id": "8268901d-b81e-402b-aa5e-34846340290a",
   "metadata": {},
   "outputs": [
    {
     "name": "stdout",
     "output_type": "stream",
     "text": [
      "Shape of 3x3 Array: (3, 3)\n",
      "Size of 3x3 Array: 9\n",
      "Data type of 3x3 Array: float64\n"
     ]
    }
   ],
   "source": [
    "print(\"Shape of 3x3 Array:\", arr2.shape)\n",
    "print(\"Size of 3x3 Array:\", arr2.size)\n",
    "print(\"Data type of 3x3 Array:\", arr2.dtype)"
   ]
  },
  {
   "cell_type": "markdown",
   "id": "0afd9d50-2410-4afc-bcbd-770e07d205de",
   "metadata": {},
   "source": [
    "# task -3"
   ]
  },
  {
   "cell_type": "code",
   "execution_count": 43,
   "id": "259ea602-adfd-4aaa-918d-d203ca4bbe33",
   "metadata": {},
   "outputs": [
    {
     "name": "stdout",
     "output_type": "stream",
     "text": [
      "1D Array + 5: [15 16 17 18 19 20 21 22 23 24 25 26 27 28 29 30 31 32 33 34 35 36 37 38\n",
      " 39 40 41 42 43 44 45 46 47 48 49 50 51 52 53 54 55]\n"
     ]
    }
   ],
   "source": [
    "arr3 = arr1 + 5\n",
    "print(\"1D Array + 5:\", arr3)"
   ]
  },
  {
   "cell_type": "code",
   "execution_count": 15,
   "id": "d3692fa9-b2e6-4322-bec7-55808ebf9f5f",
   "metadata": {},
   "outputs": [
    {
     "name": "stdout",
     "output_type": "stream",
     "text": [
      "Element wise Product:\n",
      " [[ 5 12]\n",
      " [21 32]]\n"
     ]
    }
   ],
   "source": [
    "#Multiply two 2D arrays element-wise\n",
    "a=np.array([[1, 2], [3, 4]])\n",
    "b=np.array([[5, 6], [7, 8]])\n",
    "product=a*b\n",
    "print(\"Element wise Product:\\n\",product)"
   ]
  },
  {
   "cell_type": "markdown",
   "id": "d25c82e2-5e72-4c85-9ffa-e2ed54553e40",
   "metadata": {},
   "source": [
    "# task-4"
   ]
  },
  {
   "cell_type": "code",
   "execution_count": 45,
   "id": "a8efcae3-f5e8-41b1-b700-075559e7a7ed",
   "metadata": {},
   "outputs": [
    {
     "name": "stdout",
     "output_type": "stream",
     "text": [
      "5x5 Array:  [[ 1  2  3  4  5]\n",
      " [ 6  7  8  9 10]\n",
      " [11 12 13 14 15]\n",
      " [16 17 18 19 20]\n",
      " [21 22 23 24 25]]\n"
     ]
    }
   ],
   "source": [
    "arr4=np.arange(1, 26).reshape(5, 5)\n",
    "print(\"5x5 Array: \", arr4)"
   ]
  },
  {
   "cell_type": "code",
   "execution_count": 19,
   "id": "2ae9fa8f-4f4a-466b-9e13-6247275a05a5",
   "metadata": {},
   "outputs": [
    {
     "name": "stdout",
     "output_type": "stream",
     "text": [
      "First Row: [1 2 3 4 5]\n"
     ]
    }
   ],
   "source": [
    "first_row=arr4[0, :]\n",
    "print(\"First Row:\", first_row)"
   ]
  },
  {
   "cell_type": "code",
   "execution_count": 23,
   "id": "c2d24597-219c-40d4-8984-e6b58fb19ed6",
   "metadata": {},
   "outputs": [
    {
     "name": "stdout",
     "output_type": "stream",
     "text": [
      "Last Column: [ 5 10 15 20 25]\n"
     ]
    }
   ],
   "source": [
    "last_column=arr4[:, -1]\n",
    "print(\"Last Column:\",last_column)"
   ]
  },
  {
   "cell_type": "code",
   "execution_count": 25,
   "id": "0045f310-6d52-41a6-9d42-bdd8a2615080",
   "metadata": {},
   "outputs": [
    {
     "name": "stdout",
     "output_type": "stream",
     "text": [
      "Subarray: [[ 1  2]\n",
      " [ 6  7]\n",
      " [11 12]]\n"
     ]
    }
   ],
   "source": [
    "subarray=arr4[:3, :2]\n",
    "print(\"Subarray:\",subarray)"
   ]
  },
  {
   "cell_type": "markdown",
   "id": "a27f5572-d71c-4534-8fe5-7694537661e1",
   "metadata": {},
   "source": [
    "# task-5"
   ]
  },
  {
   "cell_type": "code",
   "execution_count": 27,
   "id": "4dfb4fb2-0b66-4c8f-a44e-adbc52ec0aef",
   "metadata": {},
   "outputs": [
    {
     "name": "stdout",
     "output_type": "stream",
     "text": [
      "Random Array: [ 2 26 51 49 97 45 72  8 14 99]\n"
     ]
    }
   ],
   "source": [
    "random_array=np.random.randint(1, 101,size=10)\n",
    "print(\"Random Array:\",random_array)"
   ]
  },
  {
   "cell_type": "code",
   "execution_count": 29,
   "id": "75f36722-fd81-47f7-aed0-ab5402bf8e5d",
   "metadata": {},
   "outputs": [
    {
     "name": "stdout",
     "output_type": "stream",
     "text": [
      "Max Value: 99\n",
      "Min Value: 2\n",
      "Mean: 46.3\n",
      "Standard Deviation: 33.05162628373981\n"
     ]
    }
   ],
   "source": [
    "print(\"Max Value:\",random_array.max())\n",
    "print(\"Min Value:\",random_array.min())\n",
    "print(\"Mean:\",random_array.mean())\n",
    "print(\"Standard Deviation:\",random_array.std())"
   ]
  },
  {
   "cell_type": "markdown",
   "id": "37fbd653-e70c-488b-a66e-272e06cb2047",
   "metadata": {},
   "source": [
    "# task-6"
   ]
  },
  {
   "cell_type": "code",
   "execution_count": 31,
   "id": "cfcf43cc-bdaa-4186-b9dc-eb3343ad12e8",
   "metadata": {},
   "outputs": [
    {
     "name": "stdout",
     "output_type": "stream",
     "text": [
      "3x4 Matrix: [[ 1  2  3  4]\n",
      " [ 5  6  7  8]\n",
      " [ 9 10 11 12]]\n"
     ]
    }
   ],
   "source": [
    "array_reshaped=np.arange(1, 13).reshape(3, 4)\n",
    "print(\"3x4 Matrix:\",array_reshaped)"
   ]
  },
  {
   "cell_type": "markdown",
   "id": "ae125d08-440a-42a4-9bec-254d31fb12a9",
   "metadata": {},
   "source": [
    "# task-7"
   ]
  },
  {
   "cell_type": "code",
   "execution_count": 33,
   "id": "986494fe-40cc-4e73-9b8f-89520dbf3eef",
   "metadata": {},
   "outputs": [
    {
     "name": "stdout",
     "output_type": "stream",
     "text": [
      "Broadcast Result: [[2. 3. 4.]\n",
      " [2. 3. 4.]\n",
      " [2. 3. 4.]]\n"
     ]
    }
   ],
   "source": [
    "ones=np.ones((3, 3))\n",
    "array_to_add=np.array([1, 2, 3])\n",
    "result=ones+array_to_add\n",
    "print(\"Broadcast Result:\",result)"
   ]
  },
  {
   "cell_type": "markdown",
   "id": "b565b763-cd56-4f68-a5c8-6d0a553988f7",
   "metadata": {},
   "source": [
    "# task-8"
   ]
  },
  {
   "cell_type": "code",
   "execution_count": 35,
   "id": "822e5826-8085-4dce-a8fc-f3cd36f91532",
   "metadata": {},
   "outputs": [
    {
     "name": "stdout",
     "output_type": "stream",
     "text": [
      "Random Integers: [50 27 31 42 48 36 30  2 21 20  4 25 39 37 50]\n"
     ]
    }
   ],
   "source": [
    "random_integers=np.random.randint(1, 51,size=15)\n",
    "print(\"Random Integers:\",random_integers)"
   ]
  },
  {
   "cell_type": "code",
   "execution_count": 37,
   "id": "12170750-7038-4680-b03e-32de10e359ac",
   "metadata": {},
   "outputs": [
    {
     "name": "stdout",
     "output_type": "stream",
     "text": [
      "Divisible by 5: [50 30 20 25 50]\n"
     ]
    }
   ],
   "source": [
    "div_5 =random_integers[random_integers%5==0]\n",
    "print(\"Divisible by 5:\", div_5)"
   ]
  },
  {
   "cell_type": "markdown",
   "id": "76f2cb68-474b-43b7-8edf-4356271916da",
   "metadata": {},
   "source": [
    "# task-9"
   ]
  },
  {
   "cell_type": "code",
   "execution_count": 39,
   "id": "fcef88a3-517b-4594-bd2a-e9e275886b32",
   "metadata": {},
   "outputs": [
    {
     "name": "stdout",
     "output_type": "stream",
     "text": [
      "Matrix Multiplication:\n",
      " [[19 22]\n",
      " [43 50]]\n"
     ]
    }
   ],
   "source": [
    "matrix_1 =np.array([[1, 2],[3, 4]])\n",
    "matrix_2 =np.array([[5, 6],[7, 8]])\n",
    "matrix_product =np.dot(matrix_1, matrix_2)\n",
    "print(\"Matrix Multiplication:\\n\",matrix_product)"
   ]
  },
  {
   "cell_type": "markdown",
   "id": "f9c74f9d-b763-4211-91e1-63e18f444f57",
   "metadata": {},
   "source": [
    "# task-10"
   ]
  },
  {
   "cell_type": "code",
   "execution_count": 41,
   "id": "2018f9e2-eef2-4457-afba-ef81484e8433",
   "metadata": {},
   "outputs": [
    {
     "name": "stdout",
     "output_type": "stream",
     "text": [
      "4x4 Array:\n",
      " [[ 1  2  3  4]\n",
      " [ 5  6  7  8]\n",
      " [ 9 10 11 12]\n",
      " [13 14 15 16]]\n",
      "Diagonal Elements: [ 1  6 11 16]\n"
     ]
    }
   ],
   "source": [
    "arr5 =np.arange(1, 17).reshape(4, 4)\n",
    "print(\"4x4 Array:\\n\", arr5)\n",
    "diag_ele =arr5[np.arange(4), np.arange(4)]\n",
    "print(\"Diagonal Elements:\", diag_ele)"
   ]
  },
  {
   "cell_type": "code",
   "execution_count": null,
   "id": "9869491f-79c1-44f1-9933-bca4cd450432",
   "metadata": {},
   "outputs": [],
   "source": []
  }
 ],
 "metadata": {
  "kernelspec": {
   "display_name": "Python [conda env:base] *",
   "language": "python",
   "name": "conda-base-py"
  },
  "language_info": {
   "codemirror_mode": {
    "name": "ipython",
    "version": 3
   },
   "file_extension": ".py",
   "mimetype": "text/x-python",
   "name": "python",
   "nbconvert_exporter": "python",
   "pygments_lexer": "ipython3",
   "version": "3.12.7"
  }
 },
 "nbformat": 4,
 "nbformat_minor": 5
}
